{
 "cells": [
  {
   "cell_type": "code",
   "execution_count": null,
   "metadata": {},
   "outputs": [],
   "source": [
    "!pip3 install kafka-python"
   ]
  },
  {
   "cell_type": "code",
   "execution_count": 1,
   "metadata": {},
   "outputs": [],
   "source": [
    "import pandas as pd\n",
    "import ccxt.pro as ccxtpro\n",
    "from asyncio import run\n",
    "from kafka import KafkaProducer\n",
    "import asyncio\n",
    "import time\n",
    "import json\n",
    "import sys\n",
    "from snowflake.connector import connect\n",
    "import snowflake.connector\n",
    "from snowflake.connector.pandas_tools import write_pandas\n",
    "# sys.path.append(\"\")"
   ]
  },
  {
   "cell_type": "code",
   "execution_count": 2,
   "metadata": {},
   "outputs": [],
   "source": [
    "conn1 = connect(account= 'bta69289.us-east-1',\n",
    "                user = 'geetanjali',\n",
    "                password = 'Token@1234',\n",
    "                database_name = 'DEMO_DB',\n",
    "                schema_name = 'PUBLIC',\n",
    "                role='TM_INTERNAL_TEAM')"
   ]
  },
  {
   "cell_type": "code",
   "execution_count": null,
   "metadata": {},
   "outputs": [],
   "source": [
    "# producer = KafkaProducer(\n",
    "#     security_protocol='SASL_SSL',\n",
    "#     sasl_mechanism = 'AWS_MSK_IAM',\n",
    "#     api_version=(0,11,5),\n",
    "#     bootstrap_servers=[\n",
    "#         \"b-1.tmccxtdata.022mgq.c5.kafka.us-east-1.amazonaws.com:9098\",\n",
    "#         \"b-3.tmccxtdata.022mgq.c5.kafka.us-east-1.amazonaws.com:9098\",\n",
    "#         \"b-2.tmccxtdata.022mgq.c5.kafka.us-east-1.amazonaws.com:9098\"\n",
    "#     ]\n",
    "# )\n"
   ]
  },
  {
   "cell_type": "code",
   "execution_count": 14,
   "metadata": {},
   "outputs": [],
   "source": [
    "query1=\"\"\"select * from CRYPTO_DB.CCXT_PRO.CCXT_TOKEN_MAP where EXCHANGE='ascendex' and QUOTESYMBOL in('USD','USDT') and \n",
    "BASESYMBOL not in (select distinct(T1.BASESYMBOL)\n",
    "  from CRYPTO_DB.CCXT_PRO.CCXT_TOKEN_MAP as T1 inner join CRYPTO_DB.CCXT_PRO.CCXT_TOKEN_MAP as T2\n",
    " on T1.BASESYMBOL=T2.BASESYMBOL and T1.EXCHANGE=T1.EXCHANGE where T1.EXCHANGE='ascendex' and T1.QUOTESYMBOL!=T2.QUOTESYMBOL)\n",
    "  union\n",
    "  \n",
    "  select * from  CRYPTO_DB.CCXT_PRO.CCXT_TOKEN_MAP where EXCHANGE='ascendex' and  QUOTESYMBOL='USD' and BASESYMBOL in\n",
    "  (select distinct(T1.BASESYMBOL)\n",
    "  from CRYPTO_DB.CCXT_PRO.CCXT_TOKEN_MAP as T1 inner join CRYPTO_DB.CCXT_PRO.CCXT_TOKEN_MAP as T2 \n",
    "   on T1.BASESYMBOL=T2.BASESYMBOL and T1.EXCHANGE=T1.EXCHANGE where T1.EXCHANGE='ascendex' and T1.QUOTESYMBOL!=T2.QUOTESYMBOL\n",
    "  ) \"\"\"\n",
    "fetched_data=conn1.cursor().execute(query1).fetch_pandas_all()\n",
    "filtered_data=fetched_data[['PAIRS','TM_ID']].dropna(subset=['TM_ID'])\n",
    "token_dic=dict(zip(filtered_data['PAIRS'], filtered_data['TM_ID']))\n",
    "# with open('ascendex.txt','w') as convert_file:\n",
    "#   convert_file.write(json.dumps(dic))\n",
    "# OR\n",
    "write_pandas(conn1, df=filtered_data, table_name=\"TOKENINFO\", database=\"DEMO_DB\", schema=\"PUBLIC\")"
   ]
  },
  {
   "cell_type": "code",
   "execution_count": null,
   "metadata": {},
   "outputs": [],
   "source": [
    "\n",
    "\n",
    "\n",
    "async def loop(exchange, symbol):\n",
    "    while True:\n",
    "        try:\n",
    "            orderbook = await exchange.watch_ticker(symbol)\n",
    "            print(exchange.iso8601(exchange.milliseconds()),\"symbol:\", orderbook['symbol'],\"date::\",orderbook['datetime'],\"bid_price:\",orderbook['bid'],\"ask_price:\",orderbook['ask'])\n",
    "            #producer.send('ccxt_binanceus_watchticker',json.dumps(orderbook).encode('utf-8'),key=str(token_dict[orderbook[\"symbol\"]]).encode('utf-8'))\n",
    "        except Exception as e:\n",
    "            print(str(e))\n",
    "\n",
    "async def main():\n",
    "    exchange = ccxtpro.binanceus({'enableRateLimit': True})\n",
    "    #symbols = token_dict.keys() OR\n",
    "    fetched_data1=conn1.cursor().execute(\"select PAIRS from TOKENINFO\").fetch_pandas_all()\n",
    "    symbols=fetched_data1.drop_duplicates().values.tolist()\n",
    "    print(len(symbols))\n",
    "    await asyncio.gather(*[loop(exchange, symbol) for symbol in symbols])\n",
    "    await exchange.close()"
   ]
  },
  {
   "cell_type": "code",
   "execution_count": null,
   "metadata": {},
   "outputs": [],
   "source": []
  },
  {
   "cell_type": "code",
   "execution_count": null,
   "metadata": {},
   "outputs": [],
   "source": [
    "if __name__ == '__main__':\n",
    "   # asyncio.run(main())\n",
    "   await main()\n"
   ]
  }
 ],
 "metadata": {
  "kernelspec": {
   "display_name": "Python 3",
   "language": "python",
   "name": "python3"
  },
  "language_info": {
   "codemirror_mode": {
    "name": "ipython",
    "version": 3
   },
   "file_extension": ".py",
   "mimetype": "text/x-python",
   "name": "python",
   "nbconvert_exporter": "python",
   "pygments_lexer": "ipython3",
   "version": "3.8.10"
  },
  "orig_nbformat": 4,
  "vscode": {
   "interpreter": {
    "hash": "fafab401967311cf2eedab0bf5edc56d2caff725355b107afc3e81bd9ebc57e1"
   }
  }
 },
 "nbformat": 4,
 "nbformat_minor": 2
}
